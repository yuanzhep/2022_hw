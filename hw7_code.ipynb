{
  "nbformat": 4,
  "nbformat_minor": 0,
  "metadata": {
    "colab": {
      "provenance": [],
      "collapsed_sections": []
    },
    "kernelspec": {
      "name": "python3",
      "display_name": "Python 3"
    },
    "language_info": {
      "name": "python"
    }
  },
  "cells": [
    {
      "cell_type": "code",
      "execution_count": 23,
      "metadata": {
        "colab": {
          "base_uri": "https://localhost:8080/"
        },
        "id": "7wiuJM67wOzU",
        "outputId": "8ac9665c-ef30-4549-d6d4-95ab0b252696"
      },
      "outputs": [
        {
          "output_type": "stream",
          "name": "stdout",
          "text": [
            "number of try is :  100\n",
            "mean is :  166.62\n",
            "median is :  21\n"
          ]
        }
      ],
      "source": [
        "import random\n",
        "\n",
        "def try_on():\n",
        "  coins = 10\n",
        "  num = 0\n",
        "  while coins >= 1:\n",
        "    coins -= 1\n",
        "    num += 1\n",
        "    slots = [random.choice(\n",
        "        ['BAR', 'BELL', 'LEMON', 'CHERRY']\n",
        "    ) for i in range (3)]\n",
        "\n",
        "    if slots[0] == slots[1]:\n",
        "      if slots[1] == slots[2]:\n",
        "        count = 3\n",
        "      else:\n",
        "        count = 2\n",
        "    else:\n",
        "      count = 1\n",
        "    if slots[0] == 'CHERRY':\n",
        "      coins += count\n",
        "\n",
        "    elif count == 3:\n",
        "      if slots[0] == 'BAR':\n",
        "        coins += 20\n",
        "      elif slots[0] == 'BELL':\n",
        "        coins += 15\n",
        "      else:\n",
        "        coins += 5\n",
        "  return num\n",
        "\n",
        "def test(try_ons):\n",
        "  res = [try_on() for i in range(try_ons)]\n",
        "  mean = sum(res)/float(try_ons)\n",
        "  median = sorted(res)[int(try_ons/2)]\n",
        "  print ('number of try is : ', try_ons)\n",
        "  print ('mean is : ', mean)\n",
        "  print ('median is : ', median)\n",
        "\n",
        "test(100)"
      ]
    }
  ]
}