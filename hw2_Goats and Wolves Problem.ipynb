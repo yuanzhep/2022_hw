{
  "nbformat": 4,
  "nbformat_minor": 0,
  "metadata": {
    "colab": {
      "provenance": [],
      "collapsed_sections": []
    },
    "kernelspec": {
      "name": "python3",
      "display_name": "Python 3"
    },
    "language_info": {
      "name": "python"
    }
  },
  "cells": [
    {
      "cell_type": "markdown",
      "source": [
        "assignment2_\n",
        "Implement and solve the problem optimally using an appropriate search algorithm. Is it a good idea to check for repeated states?"
      ],
      "metadata": {
        "id": "B_7fILdZAKKs"
      }
    },
    {
      "cell_type": "markdown",
      "source": [
        "Start state is (3,3,1) and goal state is (0,0,0)"
      ],
      "metadata": {
        "id": "jOOhO5xqAHXw"
      }
    },
    {
      "cell_type": "code",
      "source": [
        "def target_test(now_state):\n",
        "    Goal_state = (0, 0, 0)\n",
        "    if now_state == Goal_state:\n",
        "        return 1\n",
        "    return 0\n",
        "\n",
        "\n",
        "def remove_seen(parent, CHILDRENS, OPEN, CLOSED):\n",
        "    while len(CHILDRENS) > 0:\n",
        "        child = CHILDRENS.pop(0)\n",
        "        if (parent, child) not in CLOSED and (parent, child) not in OPEN and (child, parent) not in CLOSED and (\n",
        "        child, parent) not in OPEN:\n",
        "            OPEN.append((parent, child))\n",
        "\n",
        "\n",
        "def move_gen(CLOSED):\n",
        "    now = (3, 3, 1)\n",
        "    parent = (None)\n",
        "    OPEN = list()\n",
        "    NEIGHBOUR = list()\n",
        "\n",
        "    while target_test(now) != 1:\n",
        "        g, w, b = now[0], now[1], now[2]\n",
        "        if b == 1:\n",
        "            if g - 1 == 0 or g - 1 > 0 and g - 1 >= w and g - w < 2:\n",
        "                NEIGHBOUR.append((g - 1, w, 0))\n",
        "            if g - 2 == 0 or g - 2 > 0 and g - 2 >= w and g - w != 3:\n",
        "                NEIGHBOUR.append((g - 2, w, 0))\n",
        "            if g == 0 or g == 3 and w - 1 >= 0 and g - w != 1:\n",
        "                NEIGHBOUR.append((g, w - 1, 0))\n",
        "            if g == 0 or g == 3 and w - 2 >= 0 and g - w != 0:\n",
        "                NEIGHBOUR.append((g, w - 2, 0))\n",
        "            if g - 1 >= 0 and w - 1 >= 0 and g == w:\n",
        "                NEIGHBOUR.append((g - 1, w - 1, 0))\n",
        "\n",
        "        if b == 0:\n",
        "            if g + 1 == 3 or g + 1 <= 3 and g + 1 >= w and g - w != 0:\n",
        "                NEIGHBOUR.append((g + 1, w, 1))\n",
        "            if g + 2 == 3 or g + 2 <= 3 and g + 2 >= w and g + w != 0 and g + w != 1:\n",
        "                NEIGHBOUR.append((g + 2, w, 1))\n",
        "            if g == 0 and w + 1 <= 3 or g == 3 and g >= w + 1 and g - w != 0 and w + 1 <= 3:\n",
        "                NEIGHBOUR.append((g, w + 1, 1))\n",
        "            if g == 0 and w + 2 <= 3 or g == 3 and g >= w + 2 and g - w != 0 and w + 2 <= 3:\n",
        "                NEIGHBOUR.append((g, w + 2, 1))\n",
        "            if g + 1 <= 3 and w + 1 <= 3 and g == w:\n",
        "                NEIGHBOUR.append((g + 1, w + 1, 1))\n",
        "\n",
        "        CLOSED.append((parent, now))\n",
        "        remove_seen(now, NEIGHBOUR, OPEN, CLOSED)\n",
        "\n",
        "        if len(OPEN) > 0:\n",
        "            parent, now = OPEN.pop(0)\n",
        "        else:\n",
        "            break\n",
        "    CLOSED.append((parent, now))\n",
        "\n",
        "\n",
        "def reconstruct_path(CLOSED):\n",
        "    count = 0\n",
        "    c = (0, 0, 0)\n",
        "    print('CSC545: Goats and Wolves Problem')\n",
        "    for parent, now in CLOSED[::-1]:\n",
        "        if parent == None:\n",
        "            print(now)\n",
        "            break\n",
        "        if now == c:\n",
        "            count = count + 1\n",
        "            c = parent\n",
        "            print(now)\n",
        "    print(f'states = {count}')\n",
        "\n",
        "\n",
        "CLOSED = list()\n",
        "move_gen(CLOSED)\n",
        "reconstruct_path(CLOSED)"
      ],
      "metadata": {
        "colab": {
          "base_uri": "https://localhost:8080/"
        },
        "id": "rcHhvAqQEQAL",
        "outputId": "8dee4e0c-341d-4582-e84c-78756b5c473c"
      },
      "execution_count": 6,
      "outputs": [
        {
          "output_type": "stream",
          "name": "stdout",
          "text": [
            "CSC545: Goats and Wolves Problem\n",
            "(0, 0, 0)\n",
            "(1, 1, 1)\n",
            "(0, 1, 0)\n",
            "(0, 3, 1)\n",
            "(0, 2, 0)\n",
            "(2, 2, 1)\n",
            "(1, 1, 0)\n",
            "(3, 1, 1)\n",
            "(3, 0, 0)\n",
            "(3, 2, 1)\n",
            "(2, 2, 0)\n",
            "(3, 3, 1)\n",
            "states = 11\n"
          ]
        }
      ]
    }
  ]
}